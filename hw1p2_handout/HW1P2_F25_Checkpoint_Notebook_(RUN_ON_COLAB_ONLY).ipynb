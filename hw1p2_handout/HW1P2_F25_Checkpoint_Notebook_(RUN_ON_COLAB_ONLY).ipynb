{
  "cells": [
    {
      "cell_type": "markdown",
      "id": "2kEMDg9AZKHh",
      "metadata": {
        "id": "2kEMDg9AZKHh"
      },
      "source": [
        "# HW1P2 Checkpoint Submission (DUE 5 September 2025 @ 11:59PM EST)\n"
      ]
    },
    {
      "cell_type": "markdown",
      "id": "6bqfkxVjJdEj",
      "metadata": {
        "id": "6bqfkxVjJdEj"
      },
      "source": [
        "## Acknowledgement Requirement\n",
        "Before starting this checkpoint assignment:\n",
        "1. Remember to FREQUENTLY click \"Runtime\" > \"Run All\" or \"Run Before\" to make sure all necessary cells have re-executed after changing your answers.\n",
        "1. You MUST complete the HW1P2 notebook (not this checkpoint notebook) and submit a sufficient score to Kaggle to complete this checkpoint assignment.\n",
        "2. We highly recommend working on this in **GOOGLE COLAB** (set your runtime to CPU-only to save compute units)\n",
        "3. You may submit this to autolab before completing the Kaggle checkpoint to check your quiz answers (You will still need to put your kaggle username and api key). Just make sure you resubmit again later AFTER you have achieved checkpoint cutoff as well.\n",
        "4. Slack days may ONLY be used on P2 final submission. Not Checkpoint submission, and not P1 submissions of any kind.\n",
        "\n",
        "\n",
        "Notes for the competition/submission details:\n",
        "1. Do not attempt to tamper with this submission file. We will require your kaggle username here, and cross-check your autolab score with your official kaggle leaderboard score.\n",
        "2. You are NOT allowed to use any code that will pre-load models (such as those from Hugging Face, etc.).\n",
        "   You MAY use models described by papers or articles, but you MUST implement them yourself through fundamental PyTorch operations (Linear, Conv2d, etc.).\n",
        "3. You are NOT allowed to use any external datasets or data that are not part of this competition at ANY point of the training.\n",
        "4. While you are allowed to work with teammates to run ablations/experiments,\n",
        "   you must submit your OWN code and your OWN results.\n",
        "5. Failure to comply with the prior rules will be considered an Academic Integrity Violation (AIV).\n",
        "6. Late submissions MUST be submitted through the Slack Kaggle (see writeup for details). Any submissions made to the regular Kaggle after the original deadline will NOT be considered, no matter how many slack days remain for the student.\n",
        "\n",
        "\n",
        "Final notes:\n",
        "1. A FULL score is required on the MCQ, and kaggle submission must reach the checkpoint cutoff in order to receive 10/10 on this assignment.\n",
        "\n",
        "\n",
        "#Only set Acknowledged to True (check-marking the box) if you have read the above acknowlegement and agree to it."
      ]
    },
    {
      "cell_type": "code",
      "execution_count": null,
      "id": "uLFHu_nMfyjv",
      "metadata": {
        "id": "uLFHu_nMfyjv"
      },
      "outputs": [],
      "source": [
        "# @title Acknowledgement {\"run\":\"auto\",\"vertical-output\":true,\"form-width\":\"75%\",\"display-mode\":\"form\"}\n",
        "ACKNOWLEDGED = False # @param {\"type\":\"boolean\"}\n"
      ]
    },
    {
      "cell_type": "markdown",
      "id": "i2FH5kvvJtKE",
      "metadata": {
        "id": "i2FH5kvvJtKE"
      },
      "source": [
        "## Multiple Choice Questions\n"
      ]
    },
    {
      "cell_type": "markdown",
      "id": "I5Qj-V5nKCPU",
      "metadata": {
        "id": "I5Qj-V5nKCPU"
      },
      "source": [
        "### Question 1\n"
      ]
    },
    {
      "cell_type": "markdown",
      "id": "-N4TK5t1P-l4",
      "metadata": {
        "id": "-N4TK5t1P-l4"
      },
      "source": [
        "You are backpropating through a sigmoid activation layer and you have to compute its local gradient. Say the pre-activation and post-activation values are represented by Z and A respectively, What's the correct formula for computing the sigmoid activation layer gradient?\n"
      ]
    },
    {
      "cell_type": "markdown",
      "id": "2jkk-602P7PQ",
      "metadata": {
        "id": "2jkk-602P7PQ"
      },
      "source": [
        "\n",
        "\n",
        "- A: $\\frac{\\partial A}{\\partial Z} = A - A^2 \\odot A$\n",
        "- B: $\\frac{\\partial A}{\\partial Z} = A - A \\odot A$\n",
        "- C: $\\frac{\\partial A}{\\partial Z} = 1 - A \\cdot A$\n",
        "- D: $\\frac{\\partial A}{\\partial Z} = A - 2(A \\odot A)$\n",
        "- E: Sigmoid is not differentiable"
      ]
    },
    {
      "cell_type": "code",
      "execution_count": null,
      "id": "i_REgBUoKAt7",
      "metadata": {
        "cellView": "form",
        "id": "i_REgBUoKAt7"
      },
      "outputs": [],
      "source": [
        "# @title Q1 {\"run\":\"auto\",\"vertical-output\":true,\"form-width\":\"50%\"}\n",
        "QUESTION_1_ANSWER = \"\" #@param [\"\", \"A\", \"B\", \"C\", \"D\", \"E\"]"
      ]
    },
    {
      "cell_type": "markdown",
      "id": "DRUXPuIgQhdh",
      "metadata": {
        "id": "DRUXPuIgQhdh"
      },
      "source": [
        "### Question 2"
      ]
    },
    {
      "cell_type": "markdown",
      "id": "TdIVOku-Qn8_",
      "metadata": {
        "id": "TdIVOku-Qn8_"
      },
      "source": [
        "Which of the following is NOT true about SGD with momentum?"
      ]
    },
    {
      "cell_type": "markdown",
      "id": "0a3Dg171QobN",
      "metadata": {
        "id": "0a3Dg171QobN"
      },
      "source": [
        "- **A**: The momentum term incorporates the effect of gradients from previous iterations.\n",
        "- **B**: The learning rate is adapted according to the stage the algorithm is in the optimization process.\n",
        "- **C**: The parameters are updated with the new momentum term and not just the current iteration's gradient.\n",
        "- **D**: It has lesser oscillations than simple SGD"
      ]
    },
    {
      "cell_type": "code",
      "execution_count": null,
      "id": "tdPPBra-Q55W",
      "metadata": {
        "cellView": "form",
        "id": "tdPPBra-Q55W"
      },
      "outputs": [],
      "source": [
        "# @title Q2 {\"run\":\"auto\",\"vertical-output\":true,\"form-width\":\"50%\"}\n",
        "QUESTION_2_ANSWER = \"\" #@param [\"\", \"A\", \"B\", \"C\", \"D\"]"
      ]
    },
    {
      "cell_type": "markdown",
      "id": "xk0XTHc6RrqW",
      "metadata": {
        "id": "xk0XTHc6RrqW"
      },
      "source": [
        "### Question 3\n"
      ]
    },
    {
      "cell_type": "markdown",
      "id": "dLgFbMPgRrqX",
      "metadata": {
        "id": "dLgFbMPgRrqX"
      },
      "source": [
        "Which of the following statements about batch normalization is incorrect?\n"
      ]
    },
    {
      "cell_type": "markdown",
      "id": "T4UlXrbgoHoP",
      "metadata": {
        "id": "T4UlXrbgoHoP"
      },
      "source": [
        "- **A**: The shift and scaling are applied to the individual $\\hat{Z}$ to compute the corresponding $\\tilde{Z}$\n",
        "- **B**: Batch Normalization introduces additional trainable parameters known as scale and shift.\n",
        "- **C**: To compute the derivative of the mini-batch of any normalized data , we will only consider the respective instance Z from the batch.\n",
        "- **D**: Batch Normalization is primarily used to improve the stability and convergence of the neural network during training."
      ]
    },
    {
      "cell_type": "code",
      "execution_count": null,
      "id": "vgw9X6-jRrqY",
      "metadata": {
        "cellView": "form",
        "id": "vgw9X6-jRrqY"
      },
      "outputs": [],
      "source": [
        "# @title Q3 {\"run\":\"auto\",\"vertical-output\":true,\"form-width\":\"50%\"}\n",
        "QUESTION_3_ANSWER = \"\" #@param [\"\", \"A\", \"B\", \"C\", \"D\"]"
      ]
    },
    {
      "cell_type": "markdown",
      "id": "I17gUoHzR-mz",
      "metadata": {
        "id": "I17gUoHzR-mz"
      },
      "source": [
        "### Question 4\n"
      ]
    },
    {
      "cell_type": "markdown",
      "id": "AMueiXO5oMCe",
      "metadata": {
        "id": "AMueiXO5oMCe"
      },
      "source": [
        "Which of the following statements about activation functions is incorrect?"
      ]
    },
    {
      "cell_type": "markdown",
      "id": "V1eBmUr2oNZS",
      "metadata": {
        "id": "V1eBmUr2oNZS"
      },
      "source": [
        "- **A**: Each output element of a vector activation function depends on all of the input elements.\n",
        "- **B**: Scalar activations when applied to a vector, operate elementwise\n",
        "- **C**: Backpropagating gradients through an output element of a vector activation function requires only the corresponding input element.\n",
        "- **D**: The jacobian of a scalar activation function is a diagonal matrix"
      ]
    },
    {
      "cell_type": "code",
      "execution_count": null,
      "id": "AgjURww2R-m0",
      "metadata": {
        "cellView": "form",
        "id": "AgjURww2R-m0"
      },
      "outputs": [],
      "source": [
        "# @title Q4 {\"run\":\"auto\",\"vertical-output\":true,\"form-width\":\"50%\"}\n",
        "QUESTION_4_ANSWER = \"\" #@param [\"\", \"A\", \"B\", \"C\", \"D\"]"
      ]
    },
    {
      "cell_type": "markdown",
      "id": "v0-1cyrNSRIK",
      "metadata": {
        "id": "v0-1cyrNSRIK"
      },
      "source": [
        "### Question 5"
      ]
    },
    {
      "cell_type": "markdown",
      "id": "zC0odn_YSRIL",
      "metadata": {
        "id": "zC0odn_YSRIL"
      },
      "source": [
        "The shape of your activations $Z$ after forwarding the input data $A$ through the network is $N * Cout$ where $N$ is batch size and $Cout$ is the number of output features. What will be the shape of the derivative of loss $L$ with respect to $Z$, $\\frac{\\partial L}{\\partial Z}$?"
      ]
    },
    {
      "cell_type": "markdown",
      "id": "lAvIq6-nSRIL",
      "metadata": {
        "id": "lAvIq6-nSRIL"
      },
      "source": [
        "- **A**: $Cout * N$\n",
        "- **B**: $N * Cout$\n",
        "- **C**: $1 * Cout$\n",
        "- **D**: $N * 1$"
      ]
    },
    {
      "cell_type": "code",
      "execution_count": null,
      "id": "AGoOsTlASRIM",
      "metadata": {
        "cellView": "form",
        "id": "AGoOsTlASRIM"
      },
      "outputs": [],
      "source": [
        "# @title Q5 {\"run\":\"auto\",\"vertical-output\":true,\"form-width\":\"50%\"}\n",
        "QUESTION_5_ANSWER = \"\" #@param [\"\", \"A\", \"B\", \"C\", \"D\"]"
      ]
    },
    {
      "cell_type": "markdown",
      "id": "rz_Id4L3SskB",
      "metadata": {
        "id": "rz_Id4L3SskB"
      },
      "source": [
        "### Question 6"
      ]
    },
    {
      "cell_type": "markdown",
      "id": "EZ1Ghf2PSskC",
      "metadata": {
        "id": "EZ1Ghf2PSskC"
      },
      "source": [
        "The \"dev\" set for hw1p2 has 2703 recordings. The most common phoneme in the transcript is \"SIL\", denoting silence. What is the least common phoneme? Please write your answer in all caps, exactly how it is in the transcript."
      ]
    },
    {
      "cell_type": "code",
      "execution_count": null,
      "id": "aMEiMtkoSskD",
      "metadata": {
        "cellView": "form",
        "id": "aMEiMtkoSskD"
      },
      "outputs": [],
      "source": [
        "# @title Q6 {\"run\":\"auto\",\"vertical-output\":true,\"form-width\":\"50%\"}\n",
        "QUESTION_6_ANSWER = \"\" #@param {type:\"string\"}"
      ]
    },
    {
      "cell_type": "markdown",
      "id": "m2fwX_5ATG-5",
      "metadata": {
        "id": "m2fwX_5ATG-5"
      },
      "source": [
        "### Question 7"
      ]
    },
    {
      "cell_type": "markdown",
      "id": "B1XX1k-GTG-6",
      "metadata": {
        "id": "B1XX1k-GTG-6"
      },
      "source": [
        "$X$ denotes the number of audio clips or recordings. For every clip, you have a $(Y, Z)$ dimensions where $y$ represents time, and $z$ represents frequency (number of frequency bins = 28 in this case). However, each $Y$ is a fraction of a second, so it is better to have more context (looking at the timesteps before and after) for that given timestep. What do you do at $y = 1$ (the first timestep)?"
      ]
    },
    {
      "cell_type": "markdown",
      "id": "Durf0-LhTG-6",
      "metadata": {
        "id": "Durf0-LhTG-6"
      },
      "source": [
        "- **A**: You would need to pad prior to the first Y with size context and with zeros but do not need to pad the training labels.\n",
        "- **B**: You would need to pad prior to the first Y with size context and use the prior audio clip values.\n",
        "- **C**: You would need to pad prior to the first Y with size context and with zeros and similarly with the training labels."
      ]
    },
    {
      "cell_type": "code",
      "execution_count": null,
      "id": "JF1G1fpYTG-6",
      "metadata": {
        "cellView": "form",
        "id": "JF1G1fpYTG-6"
      },
      "outputs": [],
      "source": [
        "# @title Q7 {\"run\":\"auto\",\"vertical-output\":true,\"form-width\":\"50%\"}\n",
        "QUESTION_7_ANSWER = \"\" #@param [\"\", \"A\", \"B\", \"C\"]"
      ]
    },
    {
      "cell_type": "markdown",
      "id": "fSkBdzMKTlXV",
      "metadata": {
        "id": "fSkBdzMKTlXV"
      },
      "source": [
        "### Question 8"
      ]
    },
    {
      "cell_type": "markdown",
      "id": "T1Xm9JPZTlXX",
      "metadata": {
        "id": "T1Xm9JPZTlXX"
      },
      "source": [
        "$X$ denotes the number of audio clips or recordings. For every clip, you have a $(Y, Z)$ dimensions where $y$ represents time, and $z$ represents frequency (number of frequency bins = 28 in this case). What is the shape for a single training instance with a context size of $12$ before flattening?"
      ]
    },
    {
      "cell_type": "markdown",
      "id": "mP-gUK2hTlXX",
      "metadata": {
        "id": "mP-gUK2hTlXX"
      },
      "source": [
        "- **A**: (25, 28)\n",
        "- **B**: (24, 28)\n",
        "- **C**: (27,28)\n",
        "- **D**: (12, 40)"
      ]
    },
    {
      "cell_type": "code",
      "execution_count": null,
      "id": "QfseI8_vTlXY",
      "metadata": {
        "cellView": "form",
        "id": "QfseI8_vTlXY"
      },
      "outputs": [],
      "source": [
        "# @title Q8 {\"run\":\"auto\",\"vertical-output\":true,\"form-width\":\"50%\"}\n",
        "QUESTION_8_ANSWER = \"\" #@param [\"\", \"A\", \"B\", \"C\", \"D\"]"
      ]
    },
    {
      "cell_type": "markdown",
      "id": "U_INd3PAUGdr",
      "metadata": {
        "id": "U_INd3PAUGdr"
      },
      "source": [
        "### Question 9"
      ]
    },
    {
      "cell_type": "markdown",
      "id": "Z_u_2rbXUGdr",
      "metadata": {
        "id": "Z_u_2rbXUGdr"
      },
      "source": [
        "The \"dev\" set for hw1p2 has 2703 recordings. The most common phoneme in the transcript is \"SIL\", denoting silence. How many instances of SIL are there in the entire dev set?"
      ]
    },
    {
      "cell_type": "code",
      "execution_count": null,
      "id": "cfVJKjCEUGds",
      "metadata": {
        "cellView": "form",
        "id": "cfVJKjCEUGds"
      },
      "outputs": [],
      "source": [
        "# @title Q9 {\"run\":\"auto\",\"vertical-output\":true,\"form-width\":\"50%\"}\n",
        "QUESTION_9_ANSWER = None #@param {type:\"integer\"}"
      ]
    },
    {
      "cell_type": "markdown",
      "id": "7cQFyubJUZn_",
      "metadata": {
        "id": "7cQFyubJUZn_"
      },
      "source": [
        "### Question 10"
      ]
    },
    {
      "cell_type": "markdown",
      "id": "6kNdBGx4UZoA",
      "metadata": {
        "id": "6kNdBGx4UZoA"
      },
      "source": [
        "David started developing his hw1p2 model starting from the simple model provided in the example notebook and 2-layer baseline and passed the very low cutoff required for the early submission.\n",
        "\n",
        "Looking at the writeup and Piazza, he found that there were a lot of things to try next, from increasing the number of layers, changing the # of neurons in each layer, and different schedulers (in addition to many other things). What is the first thing he should do to go about improving his model?"
      ]
    },
    {
      "cell_type": "markdown",
      "id": "Vz_rzb0QUZoA",
      "metadata": {
        "id": "Vz_rzb0QUZoA"
      },
      "source": [
        "- **A**: David finds that his model is overfitting, with a training accuracy in the 90s but a validation accuracy in the 80s. Learning that dropout is a way to mitigate overfitting, David adds some dropout layers to his model and trains his model. However, looking at the training loss and validation accuracy curves as the training progresses, David is surprised to find out that although his training accuracy decreased, his validation accuracy also decreased. Finally, at the end of training the same 10 epochs, the model's validation accuracy is indeed worse. David concludes that dropout is not effective and tries something else.\n",
        "- **B**: Looking at the writeup, David notices that one of the things to try is larger model size. To improve his model, David tries adding 2 more layers his model and finds that the accuracy had increased a great deal! Confident that his change had been beneficial, David continues building on the updated model, trying other changes.\n",
        "- **C**: David knows from talking with TAs and referencing the writeup that adding context and adding some dropout are good ways that he can improve his model. Reasoning along this line, he tried increasing context and added a little bit of dropout between the layers to reduce overfitting.\n",
        "- **D**: David first chooses to experiment with increasing context size, as suggested in the writeup. He tries increasing the context size to 6 and notices a remarkable boost in performance. He then goes on to test increasing model sizes, adding batchnorm, etc."
      ]
    },
    {
      "cell_type": "code",
      "execution_count": null,
      "id": "NHinxqMfUZoA",
      "metadata": {
        "cellView": "form",
        "id": "NHinxqMfUZoA"
      },
      "outputs": [],
      "source": [
        "# @title Q10 {\"run\":\"auto\",\"vertical-output\":true,\"form-width\":\"50%\"}\n",
        "QUESTION_10_ANSWER = \"\" #@param [\"\", \"A\", \"B\", \"C\", \"D\"]"
      ]
    },
    {
      "cell_type": "markdown",
      "id": "c5JeisyK6aP3",
      "metadata": {
        "id": "c5JeisyK6aP3"
      },
      "source": [
        "## Kaggle Early Submission Credentials"
      ]
    },
    {
      "cell_type": "code",
      "execution_count": null,
      "id": "ae22d285",
      "metadata": {
        "id": "ae22d285"
      },
      "outputs": [],
      "source": [
        "# These are required, even if you are trying to check quiz questions only.\n",
        "KAGGLE_USERNAME = \"YOUR_KAGGLE_USERNAME\" # TODO: replace with your Kaggle username\n",
        "KAGGLE_KEY = \"YOUR_KAGGLE_KEY\" # TODO: replace with your Kaggle API key"
      ]
    },
    {
      "cell_type": "code",
      "execution_count": null,
      "id": "21dQSxDlHFkt",
      "metadata": {
        "id": "21dQSxDlHFkt"
      },
      "outputs": [],
      "source": [
        "!pip install --upgrade --force-reinstall --no-deps kaggle==1.7.4.2 --quiet # TODO: Install dependcies for subission"
      ]
    },
    {
      "cell_type": "markdown",
      "id": "KAvR2avMf2Bd",
      "metadata": {
        "id": "KAvR2avMf2Bd"
      },
      "source": [
        "# Assignment Backend Functions (DO NOT MODIFY)\n"
      ]
    },
    {
      "cell_type": "code",
      "execution_count": null,
      "id": "LnvXM-KS7zrN",
      "metadata": {
        "id": "LnvXM-KS7zrN"
      },
      "outputs": [],
      "source": [
        "# DO NOT MODIFY the following lines. Any mistakes in the output may result in a zero grade for the assignment.\n",
        "\n",
        "from datetime import datetime\n",
        "##########################################\n",
        "#      Assignment Configs\n",
        "##########################################\n",
        "\n",
        "COMPETITION_NAME = \"11785-hw-1-p-2-fall-2025-main\"\n",
        "CHECKPOINT_SUBMISSION_DATE = \"2025-09-05 23:59:59\" # yyyy-mm--dd hh:mm:ss\n",
        "CHECKPOINT_CUTOFF_SCORE = 0.6\n",
        "\n",
        "GRADING_DIRECTION = \"ascending\" # Set to \"ascending\" if higher is a better score, and \"descending\" if lower is a better score.\n",
        "\n",
        "def multi_answer_validator(valid_options: set[str]):\n",
        "    \"\"\"\n",
        "    Returns a validator function that:\n",
        "    - Accepts a comma-separated string of answers\n",
        "    - Ensures all answers are valid (in the given set)\n",
        "    - Trims whitespace and converts to uppercase\n",
        "    - Rejects duplicates and empty answers\n",
        "    \"\"\"\n",
        "    return lambda v: (\n",
        "        isinstance(v, str)\n",
        "        and (choices := [a.strip() for a in v.upper().split(\",\") if a.strip()])\n",
        "        and all(choice in valid_options for choice in choices)\n",
        "        and len(choices) == len(set(choices))  # no duplicates\n",
        "    )\n",
        "\n",
        "\n",
        "# Each question has either a \"valid\" list or a \"custom\" lambda for validation\n",
        "question_config = {\n",
        "    1: {\"valid\": [\"A\", \"B\", \"C\", \"D\", \"E\"]},\n",
        "    2: {\"valid\": [\"A\", \"B\", \"C\", \"D\"]},\n",
        "    3: {\"valid\": [\"A\", \"B\", \"C\", \"D\"]},\n",
        "    4: {\"valid\": [\"A\", \"B\", \"C\", \"D\"]},\n",
        "    5: {\"valid\": [\"A\", \"B\", \"C\", \"D\"]},\n",
        "    6: {\"custom\": lambda v: isinstance(v, str) and len(v) > 0 and v.upper() == v},  # Must be non-empty and uppercase\n",
        "    7: {\"valid\": [\"A\", \"B\", \"C\"]},\n",
        "    8: {\"valid\": [\"A\", \"B\", \"C\", \"D\"]},\n",
        "    9: {\"custom\": lambda v: isinstance(v, int) and v >= 0},  # Non-negative int\n",
        "    10: {\"valid\": [\"A\", \"B\", \"C\", \"D\"]}\n",
        "}\n",
        "\n",
        "##################################################################################\n",
        "\n",
        "def validate_quiz_questions():\n",
        "    answers = {}\n",
        "    valid_flags = {}\n",
        "    all_valid = True\n",
        "\n",
        "    for qnum, rules in question_config.items():\n",
        "        var_name = f\"QUESTION_{qnum}_ANSWER\"\n",
        "        value = globals().get(var_name)\n",
        "\n",
        "        # Check if answer was provided at all\n",
        "        if value is None:\n",
        "            print(f'ERROR: Question {qnum}: Answer is missing (cell might not have been run).')\n",
        "            valid_flags[qnum] = False\n",
        "            all_valid = False\n",
        "            continue\n",
        "\n",
        "        answers[qnum] = value\n",
        "\n",
        "        # Apply validation rule\n",
        "        if \"custom\" in rules:\n",
        "            is_valid = rules[\"custom\"](value)\n",
        "        elif \"valid\" in rules:\n",
        "            is_valid = value in rules[\"valid\"]\n",
        "        else:\n",
        "            is_valid = False  # Should not occur unless config is broken\n",
        "\n",
        "        valid_flags[qnum] = is_valid\n",
        "\n",
        "        # Report result\n",
        "        if is_valid:\n",
        "            print(f'OK: Question {qnum}: {value!r}')\n",
        "        else:\n",
        "            print(f'ERROR: Question {qnum}: {value!r} is NOT a valid response.')\n",
        "\n",
        "            all_valid = False\n",
        "\n",
        "    return all_valid, answers\n",
        "\n",
        "\n",
        "import requests\n",
        "import json\n",
        "import os\n",
        "import json\n",
        "from datetime import datetime\n",
        "import sys\n",
        "\n",
        "# Make kaggle user file\n",
        "kaggle_dir = os.path.join(\"/root/.kaggle/\")\n",
        "kaggle_json_path = os.path.join(kaggle_dir, \"kaggle.json\")\n",
        "\n",
        "os.makedirs(kaggle_dir, exist_ok=True)\n",
        "\n",
        "with open(kaggle_json_path, \"w+\") as f:\n",
        "    json.dump({\"username\": KAGGLE_USERNAME, \"key\": KAGGLE_KEY}, f)\n",
        "\n",
        "os.chmod(kaggle_json_path, 0o600)\n",
        "\n",
        "def kaggle_user_exists(username):\n",
        "    if not username or username == \"EnterUserNameHere\":\n",
        "        return False\n",
        "    url = f\"https://www.kaggle.com/{username}\"\n",
        "    try:\n",
        "        response = requests.get(url)\n",
        "        return response.status_code == 200\n",
        "    except Exception as e:\n",
        "        print(f\"ERROR: Error while checking Kaggle user: {e}\")\n",
        "        return False\n",
        "\n",
        "def get_competition_status_and_best_score(username, competition_name):\n",
        "    from kaggle.api.kaggle_api_extended import KaggleApi\n",
        "\n",
        "    api = KaggleApi()\n",
        "    try:\n",
        "        api.authenticate()\n",
        "    except Exception as e:\n",
        "        print(f\"ERROR: Kaggle authentication failed: {e}\")\n",
        "        return False, None\n",
        "\n",
        "    try:\n",
        "        submissions = api.competition_submissions(competition_name)\n",
        "    except Exception as e:\n",
        "        print(f\"ERROR: Error while fetching submissions: Make sure your kaggle api key is correct and try to restart the runtime and run again.\")\n",
        "        return False, None\n",
        "\n",
        "    if not submissions:\n",
        "        return False, None\n",
        "\n",
        "    def before_deadline(submission_date, ddl_date):\n",
        "        if not submission_date:\n",
        "            return False\n",
        "        return submission_date <= ddl_date\n",
        "\n",
        "    user_submissions = [\n",
        "        s for s in submissions\n",
        "        if getattr(s, \"submitted_by\", None) == username\n",
        "        and before_deadline(getattr(s, \"date\", None), datetime.strptime(CHECKPOINT_SUBMISSION_DATE, \"%Y-%m-%d %H:%M:%S\"))\n",
        "    ]\n",
        "\n",
        "    if not user_submissions:\n",
        "        print(f\"ERROR: No valid submissions found for user '{username}' before deadline.\")\n",
        "        return False, None\n",
        "\n",
        "    best_score = max([\n",
        "        float(s.public_score)\n",
        "        for s in user_submissions\n",
        "        if s.public_score not in [None, '']\n",
        "    ], default=None)\n",
        "\n",
        "    return True, best_score\n",
        "\n",
        "def check_kaggle_submission():\n",
        "    if not ACKNOWLEDGED:\n",
        "        print(\"ERROR: You have not acknowledged the rules. Please set ACKNOWLEDGED = True.\")\n",
        "    else:\n",
        "        print(\"OK: You have acknowledged the competition rules.\")\n",
        "\n",
        "\n",
        "    if kaggle_user_exists(KAGGLE_USERNAME):\n",
        "        print(f\"OK: User '{KAGGLE_USERNAME}' account exists on Kaggle.\")\n",
        "    else:\n",
        "        print(f\"ERROR: User '{KAGGLE_USERNAME}' account does not exist. Check your Kaggle username. Even if you are trying to check your quiz questions only, you STILL need your Kaggle Username and API Key.\")\n",
        "\n",
        "    entered, best_score = get_competition_status_and_best_score(KAGGLE_USERNAME, COMPETITION_NAME)\n",
        "\n",
        "    if entered:\n",
        "        print(f\"OK: You have entered the competition '{COMPETITION_NAME}'.\")\n",
        "        if best_score is not None:\n",
        "            if (GRADING_DIRECTION == \"ascending\" and float(best_score) >= CHECKPOINT_CUTOFF_SCORE or\n",
        "            GRADING_DIRECTION == \"descending\" and float(best_score) <= CHECKPOINT_CUTOFF_SCORE):\n",
        "                print(f\"OK: Best public score: {best_score} meets the cutoff score of {CHECKPOINT_CUTOFF_SCORE}.\")\n",
        "            else:\n",
        "                print(f\"ERROR: Best public score: {best_score} does NOT meet the cutoff score of {CHECKPOINT_CUTOFF_SCORE}.\")\n",
        "        else:\n",
        "            print(f\"ERROR: No submissions with a public score.\")\n",
        "    else:\n",
        "        print(f\"ERROR: You have not entered the competition or made a valid submission.\")\n",
        "    return entered, best_score\n",
        "\n",
        "def create_submission_json():\n",
        "    output_json = {}\n",
        "\n",
        "    if not \"ACKNOWLEDGED\" in globals() or not ACKNOWLEDGED:\n",
        "        print(\"ERROR: Please re-run the Acknowledgement requirement section and set to True if you agree to the terms listed\")\n",
        "        return\n",
        "\n",
        "    output_json[\"acknowledgement\"] = ACKNOWLEDGED\n",
        "    all_valid, answers = validate_quiz_questions()\n",
        "    if not all_valid:\n",
        "         raise f'ERROR: Please ensure you have all questions, and re-run all cells.'\n",
        "\n",
        "    kaggle_credentials_provided = (\n",
        "        \"KAGGLE_USERNAME\" in globals()\n",
        "        and \"KAGGLE_KEY\" in globals()\n",
        "        and KAGGLE_USERNAME\n",
        "        and KAGGLE_KEY\n",
        "        and KAGGLE_USERNAME != \"EnterUserNameHere\"\n",
        "    )\n",
        "\n",
        "    if kaggle_credentials_provided:\n",
        "        from kaggle.api.kaggle_api_extended import KaggleApi\n",
        "        kaggle_dir = os.path.join(os.path.expanduser(\"~\"), \".kaggle\")\n",
        "        kaggle_json_path = os.path.join(kaggle_dir, \"kaggle.json\")\n",
        "\n",
        "        os.makedirs(kaggle_dir, exist_ok=True)\n",
        "        with open(kaggle_json_path, \"w\") as f:\n",
        "            json.dump({\"username\": KAGGLE_USERNAME, \"key\": KAGGLE_KEY}, f)\n",
        "        os.chmod(kaggle_json_path, 0o600)\n",
        "\n",
        "        entered, best_score = check_kaggle_submission()\n",
        "\n",
        "        if entered:\n",
        "            output_json['achieved_cutoff'] = (best_score >= CHECKPOINT_CUTOFF_SCORE and GRADING_DIRECTION == \"ascending\" or\n",
        "                                              best_score <= CHECKPOINT_CUTOFF_SCORE and GRADING_DIRECTION == \"descending\")\n",
        "        else:\n",
        "            print(\"WARNING: Not entered in competition. Submission will only check MCQs.\\n REQUIRED: Make sure to resubmit later once Checkpoint cutoff score is reached on Kaggle.\")\n",
        "\n",
        "        output_json['kaggle_username'] = KAGGLE_USERNAME\n",
        "        filename_suffix = \"\"\n",
        "    else:\n",
        "        print(\"WARNING: Kaggle credentials not provided or incomplete. Only quiz questions will be included.\")\n",
        "        filename_suffix = \"_missing_kaggle\"\n",
        "\n",
        "    for qnum, val in answers.items():\n",
        "        output_json[f'Q{qnum}'] = val.upper() if isinstance(val, str) else int(val)\n",
        "\n",
        "    filename = f\"checkpoint_submission{filename_suffix}.json\"\n",
        "\n",
        "    # Save and download\n",
        "    def is_colab():\n",
        "        return \"google.colab\" in sys.modules\n",
        "\n",
        "    if is_colab():\n",
        "        with open(os.path.join(\"/content\", filename), \"w\") as f:\n",
        "            json.dump(output_json, f, indent=2)\n",
        "        from google.colab import files\n",
        "        files.download(filename)\n",
        "    else:\n",
        "        with open(filename, \"w\") as f:\n",
        "            json.dump(output_json, f, indent=2)\n",
        "        print(f\"OK: File saved locally as '{filename}'. Submit to Autolab if needed.\")\n"
      ]
    },
    {
      "cell_type": "markdown",
      "id": "vfnuVYLM6mDE",
      "metadata": {
        "id": "vfnuVYLM6mDE"
      },
      "source": [
        "# TODO: Submission Generation"
      ]
    },
    {
      "cell_type": "code",
      "execution_count": null,
      "id": "MB84NJ6i6lGz",
      "metadata": {
        "id": "MB84NJ6i6lGz"
      },
      "outputs": [],
      "source": [
        "create_submission_json() # TODO: Click \"Runtime\" > \"Run all\"\n",
        "#TODO: If the checkpint_submission.json file does not\n",
        "# automatically bring up a donwload pop-up\n",
        "# Then make sure to entire the files and\n",
        "#manually download the checkpoint_submission.json file."
      ]
    },
    {
      "cell_type": "markdown",
      "source": [
        "## Download the checkpoint_submission.json file and submit on Autolab <b>HW1P2 Checkpoint</b> Assignment"
      ],
      "metadata": {
        "id": "96xYBqfB2FE-"
      },
      "id": "96xYBqfB2FE-"
    }
  ],
  "metadata": {
    "colab": {
      "provenance": []
    },
    "kernelspec": {
      "display_name": "Python 3",
      "name": "python3"
    },
    "language_info": {
      "codemirror_mode": {
        "name": "ipython",
        "version": 3
      },
      "file_extension": ".py",
      "mimetype": "text/x-python",
      "name": "python",
      "nbconvert_exporter": "python",
      "pygments_lexer": "ipython3",
      "version": "3.13.2"
    }
  },
  "nbformat": 4,
  "nbformat_minor": 5
}